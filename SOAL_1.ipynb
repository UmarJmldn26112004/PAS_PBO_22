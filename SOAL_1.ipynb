{
  "nbformat": 4,
  "nbformat_minor": 0,
  "metadata": {
    "colab": {
      "provenance": []
    },
    "kernelspec": {
      "name": "python3",
      "display_name": "Python 3"
    },
    "language_info": {
      "name": "python"
    }
  },
  "cells": [
    {
      "cell_type": "code",
      "execution_count": 2,
      "metadata": {
        "colab": {
          "base_uri": "https://localhost:8080/"
        },
        "id": "xZolfoLL-SLI",
        "outputId": "ed2d7f52-4e31-4197-df77-bc8be1fa266a"
      },
      "outputs": [
        {
          "output_type": "stream",
          "name": "stdout",
          "text": [
            "\n",
            "hasil 0.5\n",
            "hasil 0.3333333333333333\n",
            "hasil 0.6666666666666666\n",
            "hasil 0.8333333333333334\n",
            "hasil 1.0\n",
            "hasil 0.16666666666666666\n",
            "hasil 0.8333333333333334\n",
            "hasil 1.0\n",
            "hasil 0.5\n",
            "hasil0.3333333333333333\n",
            "hasil 0.3333333333333333\n",
            "hasil 0.16666666666666666\n",
            "hasil 0.5\n",
            "hasil 0.16666666666666666\n",
            "hasil 0.8333333333333334\n",
            "hasil =8.166666666666666\n"
          ]
        }
      ],
      "source": [
        "print(\"\")\n",
        "jumlah = 3/6\n",
        "print(\"hasil \"+str(jumlah))\n",
        "\n",
        "\n",
        "jumlah2 = 2/6\n",
        "print(\"hasil \"+str(jumlah2))\n",
        "\n",
        "\n",
        "jumlah3 = 4/6\n",
        "print(\"hasil \"+str(jumlah3))\n",
        "\n",
        "\n",
        "jumlah4 = 5/6\n",
        "print(\"hasil \"+str(jumlah4))\n",
        "\n",
        "\n",
        "jumlah5 = 6/6\n",
        "print(\"hasil \"+str(jumlah5))\n",
        "\n",
        "\n",
        "jumlah6 = 1/6\n",
        "print(\"hasil \"+str(jumlah6))\n",
        "\n",
        "\n",
        "jumlah7 = 5/6\n",
        "print(\"hasil \"+str(jumlah7))\n",
        "\n",
        "\n",
        "jumlah8 = 6/6\n",
        "print(\"hasil \"+str(jumlah8))\n",
        "\n",
        "\n",
        "jumlah9 = 3/6\n",
        "print(\"hasil \"+str(jumlah9))\n",
        "\n",
        "\n",
        "jumlah10 = 2/6\n",
        "print(\"hasil\"+str(jumlah10))\n",
        "\n",
        "\n",
        "jumlah11 = 2/6\n",
        "print(\"hasil \"+str(jumlah11))\n",
        "\n",
        " \n",
        "jumlah12 = 1/6\n",
        "print(\"hasil \"+str(jumlah12))\n",
        "\n",
        "\n",
        "jumlah13 = 3/6\n",
        "print(\"hasil \"+str(jumlah13))\n",
        "\n",
        "\n",
        "jumlah14 = 1/6\n",
        "print(\"hasil \"+str(jumlah14))\n",
        "\n",
        "\n",
        "jumlah15 = 5/6\n",
        "print(\"hasil \"+str(jumlah15))\n",
        "\n",
        "total = jumlah + jumlah2 + jumlah3 + jumlah4 + jumlah5 + jumlah6 + jumlah7 + jumlah8 + jumlah9 + jumlah10 + jumlah11 + jumlah12 + jumlah13 + jumlah14 + jumlah15\n",
        "print(\"hasil =\"+str(total))\n",
        "\n",
        "print(\"\")\n",
        "\n",
        "\n"
      ]
    },
    {
      "cell_type": "code",
      "source": [
        "print(\"soal2\")\n",
        "minggu1 =6560860+5950850+12685900+5768500+2989000\n",
        "print(\"maka totalnya \"+str(minggu1))\n",
        "\n",
        "minggu2 =8782150+6620000+5128750+5217300+4820600\n",
        "print(\"maka totalnya \"+str(minggu2))\n",
        "\n",
        "minggu3 =8130940+2940650+3488200+6930540+4319260\n",
        "print(\"maka totalnya \"+str(minggu3))\n",
        "\n",
        "minggu4 =12849100+5752200+5128400+3880490+4982100\n",
        "print(\"maka totalnya \"+str(minggu4))\n"
      ],
      "metadata": {
        "colab": {
          "base_uri": "https://localhost:8080/"
        },
        "id": "rzwXkZulG0l7",
        "outputId": "0dafd679-5dd3-42ea-a2ad-2836ea29c767"
      },
      "execution_count": 9,
      "outputs": [
        {
          "output_type": "stream",
          "name": "stdout",
          "text": [
            "soal2\n",
            "maka totalnya 33955110\n",
            "maka totalnya 30568800\n",
            "maka totalnya 25809590\n",
            "maka totalnya 32592290\n"
          ]
        }
      ]
    }
  ]
}